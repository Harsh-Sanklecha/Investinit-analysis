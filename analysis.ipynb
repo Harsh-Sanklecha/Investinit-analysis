{
 "cells": [
  {
   "cell_type": "markdown",
   "id": "described-formation",
   "metadata": {},
   "source": [
    "#### Importing Necessary Libraries"
   ]
  },
  {
   "cell_type": "code",
   "execution_count": 2,
   "id": "cloudy-devon",
   "metadata": {},
   "outputs": [],
   "source": [
    "import pandas as pd\n",
    "import os\n",
    "import matplotlib.pyplot as plt"
   ]
  },
  {
   "cell_type": "markdown",
   "id": "accompanied-military",
   "metadata": {},
   "source": [
    "#### Making it unique and merging into a single csv file"
   ]
  },
  {
   "cell_type": "code",
   "execution_count": 3,
   "id": "voluntary-norway",
   "metadata": {},
   "outputs": [],
   "source": [
    "files = [file for file in os.listdir('./files')]\n",
    "all_data = pd.DataFrame()\n",
    "\n",
    "for file in files:\n",
    "    with open(\"files/\"+file, 'r') as temp_f:\n",
    "        # get No of columns in each line\n",
    "        col_count = [ len(l.split(\",\")) for l in temp_f.readlines() ]\n",
    "\n",
    "        ### Generate column names  (names will be 0, 1, 2, ..., maximum columns - 1)\n",
    "        column_names = [i for i in range(0, max(col_count))]\n",
    "\n",
    "        ### Read csv\n",
    "        df = pd.read_csv(\"files/\"+file, delimiter=\",\", names=column_names)\n",
    "\n",
    "\n",
    "        # Making the first row as head\n",
    "        new_header = df.iloc[0]\n",
    "        df = df[1:]\n",
    "        df.columns = new_header\n",
    "\n",
    "        df = df[df['Status'] != 'Awaiting Targets']\n",
    "\n",
    "        # Making the dataset distinct with respect to Signal_date\n",
    "        df = df.drop_duplicates(subset = [\"Signal_Date\"])\n",
    "\n",
    "        #Concating it to the new dataframe\n",
    "        all_data = pd.concat([all_data,df])\n",
    "    \n",
    "all_data.to_csv(\"all_data_final.csv\",index=False)"
   ]
  },
  {
   "cell_type": "code",
   "execution_count": 4,
   "id": "southwest-pottery",
   "metadata": {},
   "outputs": [
    {
     "data": {
      "text/html": [
       "<div>\n",
       "<style scoped>\n",
       "    .dataframe tbody tr th:only-of-type {\n",
       "        vertical-align: middle;\n",
       "    }\n",
       "\n",
       "    .dataframe tbody tr th {\n",
       "        vertical-align: top;\n",
       "    }\n",
       "\n",
       "    .dataframe thead th {\n",
       "        text-align: right;\n",
       "    }\n",
       "</style>\n",
       "<table border=\"1\" class=\"dataframe\">\n",
       "  <thead>\n",
       "    <tr style=\"text-align: right;\">\n",
       "      <th></th>\n",
       "      <th>Date</th>\n",
       "      <th>Close_Price</th>\n",
       "      <th>Signal_Date</th>\n",
       "      <th>Call</th>\n",
       "      <th>Stop_Loss</th>\n",
       "      <th>Target_1</th>\n",
       "      <th>Target_2</th>\n",
       "      <th>Target_3</th>\n",
       "      <th>Target_4</th>\n",
       "      <th>Status</th>\n",
       "    </tr>\n",
       "  </thead>\n",
       "  <tbody>\n",
       "    <tr>\n",
       "      <th>0</th>\n",
       "      <td>2021-01-01</td>\n",
       "      <td>388.10</td>\n",
       "      <td>2020-12-30</td>\n",
       "      <td>384.70</td>\n",
       "      <td>389.77</td>\n",
       "      <td>381.57</td>\n",
       "      <td>379.04</td>\n",
       "      <td>376.50</td>\n",
       "      <td>372.90</td>\n",
       "      <td>Target 1 Reached</td>\n",
       "    </tr>\n",
       "    <tr>\n",
       "      <th>1</th>\n",
       "      <td>2021-01-15</td>\n",
       "      <td>438.55</td>\n",
       "      <td>2021-01-14</td>\n",
       "      <td>450.59</td>\n",
       "      <td>466.14</td>\n",
       "      <td>440.97</td>\n",
       "      <td>433.20</td>\n",
       "      <td>425.43</td>\n",
       "      <td>414.36</td>\n",
       "      <td>Target 1 Reached</td>\n",
       "    </tr>\n",
       "    <tr>\n",
       "      <th>2</th>\n",
       "      <td>2021-01-20</td>\n",
       "      <td>947.70</td>\n",
       "      <td>2021-01-19</td>\n",
       "      <td>942.55</td>\n",
       "      <td>956.47</td>\n",
       "      <td>933.93</td>\n",
       "      <td>926.97</td>\n",
       "      <td>920.01</td>\n",
       "      <td>910.10</td>\n",
       "      <td>Target 1 Reached</td>\n",
       "    </tr>\n",
       "    <tr>\n",
       "      <th>3</th>\n",
       "      <td>2021-01-25</td>\n",
       "      <td>437.25</td>\n",
       "      <td>2021-01-21</td>\n",
       "      <td>448.29</td>\n",
       "      <td>440.09</td>\n",
       "      <td>454.72</td>\n",
       "      <td>459.24</td>\n",
       "      <td>464.37</td>\n",
       "      <td>469.35</td>\n",
       "      <td>Stop Loss has occured</td>\n",
       "    </tr>\n",
       "    <tr>\n",
       "      <th>4</th>\n",
       "      <td>2021-01-28</td>\n",
       "      <td>431.90</td>\n",
       "      <td>2021-01-27</td>\n",
       "      <td>444.11</td>\n",
       "      <td>448.43</td>\n",
       "      <td>441.44</td>\n",
       "      <td>439.28</td>\n",
       "      <td>437.12</td>\n",
       "      <td>434.05</td>\n",
       "      <td>Final Target Reached</td>\n",
       "    </tr>\n",
       "  </tbody>\n",
       "</table>\n",
       "</div>"
      ],
      "text/plain": [
       "         Date  Close_Price Signal_Date    Call  Stop_Loss  Target_1  Target_2  \\\n",
       "0  2021-01-01       388.10  2020-12-30  384.70     389.77    381.57    379.04   \n",
       "1  2021-01-15       438.55  2021-01-14  450.59     466.14    440.97    433.20   \n",
       "2  2021-01-20       947.70  2021-01-19  942.55     956.47    933.93    926.97   \n",
       "3  2021-01-25       437.25  2021-01-21  448.29     440.09    454.72    459.24   \n",
       "4  2021-01-28       431.90  2021-01-27  444.11     448.43    441.44    439.28   \n",
       "\n",
       "   Target_3  Target_4                 Status  \n",
       "0    376.50    372.90       Target 1 Reached  \n",
       "1    425.43    414.36       Target 1 Reached  \n",
       "2    920.01    910.10       Target 1 Reached  \n",
       "3    464.37    469.35  Stop Loss has occured  \n",
       "4    437.12    434.05   Final Target Reached  "
      ]
     },
     "execution_count": 4,
     "metadata": {},
     "output_type": "execute_result"
    }
   ],
   "source": [
    "data_unique = pd.read_csv(\"all_data_final.csv\")\n",
    "data_unique = data_unique.drop(data_unique.columns[-1],axis=1)\n",
    "data_unique.head()"
   ]
  },
  {
   "cell_type": "markdown",
   "id": "classical-turkey",
   "metadata": {},
   "source": [
    "#### Cleaning up data"
   ]
  },
  {
   "cell_type": "code",
   "execution_count": 5,
   "id": "statistical-danger",
   "metadata": {},
   "outputs": [
    {
     "data": {
      "text/html": [
       "<div>\n",
       "<style scoped>\n",
       "    .dataframe tbody tr th:only-of-type {\n",
       "        vertical-align: middle;\n",
       "    }\n",
       "\n",
       "    .dataframe tbody tr th {\n",
       "        vertical-align: top;\n",
       "    }\n",
       "\n",
       "    .dataframe thead th {\n",
       "        text-align: right;\n",
       "    }\n",
       "</style>\n",
       "<table border=\"1\" class=\"dataframe\">\n",
       "  <thead>\n",
       "    <tr style=\"text-align: right;\">\n",
       "      <th></th>\n",
       "      <th>Date</th>\n",
       "      <th>Close_Price</th>\n",
       "      <th>Signal_Date</th>\n",
       "      <th>Call</th>\n",
       "      <th>Stop_Loss</th>\n",
       "      <th>Target_1</th>\n",
       "      <th>Target_2</th>\n",
       "      <th>Target_3</th>\n",
       "      <th>Target_4</th>\n",
       "      <th>Status</th>\n",
       "    </tr>\n",
       "  </thead>\n",
       "  <tbody>\n",
       "    <tr>\n",
       "      <th>0</th>\n",
       "      <td>2021-01-01</td>\n",
       "      <td>388.10</td>\n",
       "      <td>2020-12-30</td>\n",
       "      <td>384.70</td>\n",
       "      <td>389.77</td>\n",
       "      <td>381.57</td>\n",
       "      <td>379.04</td>\n",
       "      <td>376.50</td>\n",
       "      <td>372.90</td>\n",
       "      <td>Target 1 Reached</td>\n",
       "    </tr>\n",
       "    <tr>\n",
       "      <th>1</th>\n",
       "      <td>2021-01-15</td>\n",
       "      <td>438.55</td>\n",
       "      <td>2021-01-14</td>\n",
       "      <td>450.59</td>\n",
       "      <td>466.14</td>\n",
       "      <td>440.97</td>\n",
       "      <td>433.20</td>\n",
       "      <td>425.43</td>\n",
       "      <td>414.36</td>\n",
       "      <td>Target 1 Reached</td>\n",
       "    </tr>\n",
       "    <tr>\n",
       "      <th>2</th>\n",
       "      <td>2021-01-20</td>\n",
       "      <td>947.70</td>\n",
       "      <td>2021-01-19</td>\n",
       "      <td>942.55</td>\n",
       "      <td>956.47</td>\n",
       "      <td>933.93</td>\n",
       "      <td>926.97</td>\n",
       "      <td>920.01</td>\n",
       "      <td>910.10</td>\n",
       "      <td>Target 1 Reached</td>\n",
       "    </tr>\n",
       "    <tr>\n",
       "      <th>3</th>\n",
       "      <td>2021-01-25</td>\n",
       "      <td>437.25</td>\n",
       "      <td>2021-01-21</td>\n",
       "      <td>448.29</td>\n",
       "      <td>440.09</td>\n",
       "      <td>454.72</td>\n",
       "      <td>459.24</td>\n",
       "      <td>464.37</td>\n",
       "      <td>469.35</td>\n",
       "      <td>Stop Loss has occured</td>\n",
       "    </tr>\n",
       "    <tr>\n",
       "      <th>4</th>\n",
       "      <td>2021-01-28</td>\n",
       "      <td>431.90</td>\n",
       "      <td>2021-01-27</td>\n",
       "      <td>444.11</td>\n",
       "      <td>448.43</td>\n",
       "      <td>441.44</td>\n",
       "      <td>439.28</td>\n",
       "      <td>437.12</td>\n",
       "      <td>434.05</td>\n",
       "      <td>Final Target Reached</td>\n",
       "    </tr>\n",
       "  </tbody>\n",
       "</table>\n",
       "</div>"
      ],
      "text/plain": [
       "         Date  Close_Price Signal_Date    Call  Stop_Loss  Target_1  Target_2  \\\n",
       "0  2021-01-01       388.10  2020-12-30  384.70     389.77    381.57    379.04   \n",
       "1  2021-01-15       438.55  2021-01-14  450.59     466.14    440.97    433.20   \n",
       "2  2021-01-20       947.70  2021-01-19  942.55     956.47    933.93    926.97   \n",
       "3  2021-01-25       437.25  2021-01-21  448.29     440.09    454.72    459.24   \n",
       "4  2021-01-28       431.90  2021-01-27  444.11     448.43    441.44    439.28   \n",
       "\n",
       "   Target_3  Target_4                 Status  \n",
       "0    376.50    372.90       Target 1 Reached  \n",
       "1    425.43    414.36       Target 1 Reached  \n",
       "2    920.01    910.10       Target 1 Reached  \n",
       "3    464.37    469.35  Stop Loss has occured  \n",
       "4    437.12    434.05   Final Target Reached  "
      ]
     },
     "execution_count": 5,
     "metadata": {},
     "output_type": "execute_result"
    }
   ],
   "source": [
    "nan_df = data_unique[data_unique.isna().any(axis=1)]\n",
    "\n",
    "# Dropping NaN rows\n",
    "data_unique = data_unique.dropna(how='any')\n",
    "data_unique.head()"
   ]
  },
  {
   "cell_type": "markdown",
   "id": "resistant-module",
   "metadata": {},
   "source": [
    "#### Count of total calls generated"
   ]
  },
  {
   "cell_type": "code",
   "execution_count": 6,
   "id": "tested-resolution",
   "metadata": {},
   "outputs": [],
   "source": [
    "total_calls = data_unique['Signal_Date'].count()"
   ]
  },
  {
   "cell_type": "markdown",
   "id": "dietary-position",
   "metadata": {},
   "source": [
    "#### Error in calls"
   ]
  },
  {
   "cell_type": "code",
   "execution_count": 7,
   "id": "coordinated-muslim",
   "metadata": {},
   "outputs": [],
   "source": [
    "grouped = data_unique.groupby('Status').groups\n",
    "\n",
    "# Converting grouped data into list\n",
    "error_calls = len(list(grouped['Stop Loss has occured']))"
   ]
  },
  {
   "cell_type": "markdown",
   "id": "ordinary-detector",
   "metadata": {},
   "source": [
    "#### Correct calls count"
   ]
  },
  {
   "cell_type": "code",
   "execution_count": 8,
   "id": "limiting-creator",
   "metadata": {},
   "outputs": [],
   "source": [
    "correct_calls = total_calls - error_calls"
   ]
  },
  {
   "cell_type": "markdown",
   "id": "polished-haiti",
   "metadata": {},
   "source": [
    "#### Accuracy of the alogrothm"
   ]
  },
  {
   "cell_type": "code",
   "execution_count": 9,
   "id": "collected-essay",
   "metadata": {},
   "outputs": [
    {
     "data": {
      "text/plain": [
       "0.7712765957446809"
      ]
     },
     "execution_count": 9,
     "metadata": {},
     "output_type": "execute_result"
    }
   ],
   "source": [
    "correct_calls / total_calls"
   ]
  },
  {
   "cell_type": "code",
   "execution_count": 10,
   "id": "quality-arkansas",
   "metadata": {},
   "outputs": [
    {
     "data": {
      "text/plain": [
       "([<matplotlib.patches.Wedge at 0x7f47f163a4c0>,\n",
       "  <matplotlib.patches.Wedge at 0x7f47f163a880>],\n",
       " [Text(-0.9172055392071699, 0.6072347147913111, 'Targets'),\n",
       "  Text(0.9172054823537488, -0.6072348006662885, 'Stop Loss')])"
      ]
     },
     "execution_count": 10,
     "metadata": {},
     "output_type": "execute_result"
    },
    {
     "data": {
      "image/png": "[encoded data removed]",
      "text/plain": [
       "<Figure size 432x288 with 1 Axes>"
      ]
     },
     "metadata": {},
     "output_type": "display_data"
    }
   ],
   "source": [
    "val = [total_calls,error_calls]\n",
    "lab = ['Targets','Stop Loss']\n",
    "plt.pie(val,labels=lab)"
   ]
  },
  {
   "cell_type": "code",
   "execution_count": 11,
   "id": "amateur-record",
   "metadata": {},
   "outputs": [
    {
     "data": {
      "image/png": "[encoded data removed]",
      "text/plain": [
       "<Figure size 432x288 with 1 Axes>"
      ]
     },
     "metadata": {
      "needs_background": "light"
     },
     "output_type": "display_data"
    }
   ],
   "source": [
    "temp = data_unique.groupby('Status')\n",
    "calls = temp.size()\n",
    "\n",
    "status = [foo for foo, df in temp]\n",
    "plt.bar(status,calls)\n",
    "plt.xticks(status,rotation='vertical')\n",
    "plt.ylabel('Count of Calls')\n",
    "plt.xlabel('Calls')\n",
    "plt.show()"
   ]
  }
 ],
 "metadata": {
  "kernelspec": {
   "display_name": "Python 3",
   "language": "python",
   "name": "python3"
  },
  "language_info": {
   "codemirror_mode": {
    "name": "ipython",
    "version": 3
   },
   "file_extension": ".py",
   "mimetype": "text/x-python",
   "name": "python",
   "nbconvert_exporter": "python",
   "pygments_lexer": "ipython3",
   "version": "3.8.5"
  }
 },
 "nbformat": 4,
 "nbformat_minor": 5
}
